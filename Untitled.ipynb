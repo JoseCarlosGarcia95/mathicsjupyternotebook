{
 "cells": [
  {
   "cell_type": "code",
   "execution_count": 1,
   "metadata": {},
   "outputs": [
    {
     "data": {
      "text/html": [
       "<math><mn>2</mn></math>"
      ]
     },
     "metadata": {},
     "output_type": "display_data"
    }
   ],
   "source": [
    "1+1"
   ]
  },
  {
   "cell_type": "code",
   "execution_count": 1,
   "metadata": {},
   "outputs": [
    {
     "data": {
      "text/html": [
       "<math><mi>Plot</mi></math>"
      ]
     },
     "metadata": {},
     "output_type": "display_data"
    }
   ],
   "source": [
    "Plot"
   ]
  },
  {
   "cell_type": "code",
   "execution_count": null,
   "metadata": {},
   "outputs": [],
   "source": [
    "Sol"
   ]
  }
 ],
 "metadata": {
  "kernelspec": {
   "display_name": "MathicsKernel",
   "language": "Mathematica",
   "name": "mathicsnotebook"
  },
  "language_info": {
   "mimetype": "text/x-mathematica",
   "name": "Mathematica",
   "version": "1.0"
  }
 },
 "nbformat": 4,
 "nbformat_minor": 2
}
