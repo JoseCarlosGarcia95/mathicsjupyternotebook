{
 "cells": [
  {
   "cell_type": "code",
   "execution_count": 1,
   "metadata": {},
   "outputs": [
    {
     "name": "stdout",
     "output_type": "stream",
     "text": [
      "<math><mrow><mo>{</mo> <mrow><mo>{</mo> <mrow><mi>x</mi> <mo>-&gt;</mo> <mn>0</mn></mrow> <mo>}</mo></mrow> <mo>}</mo></mrow></math>"
     ]
    },
    {
     "data": {
      "text/html": [
       "<math><mrow><mo>{</mo> <mrow><mo>{</mo> <mrow><mi>x</mi> <mo>-&gt;</mo> <mn>0</mn></mrow> <mo>}</mo></mrow> <mo>}</mo></mrow></math>"
      ]
     },
     "metadata": {},
     "output_type": "display_data"
    }
   ],
   "source": [
    "Solve[x^2==0, x]"
   ]
  },
  {
   "cell_type": "code",
   "execution_count": null,
   "metadata": {},
   "outputs": [],
   "source": []
  }
 ],
 "metadata": {
  "kernelspec": {
   "display_name": "MathicsKernel",
   "language": "Mathematica",
   "name": "mathicsnotebook"
  },
  "language_info": {
   "mimetype": "text/x-mathematica",
   "name": "Mathematica",
   "version": "1.0"
  }
 },
 "nbformat": 4,
 "nbformat_minor": 2
}
